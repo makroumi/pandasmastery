{
  "nbformat": 4,
  "nbformat_minor": 0,
  "metadata": {
    "colab": {
      "provenance": []
    },
    "kernelspec": {
      "name": "python3",
      "display_name": "Python 3"
    },
    "language_info": {
      "name": "python"
    }
  },
  "cells": [
    {
      "cell_type": "markdown",
      "source": [
        "# Pandas Notebook 4: DateTime Operations\n",
        "\"Tracking sunny days and lemonade sales!\""
      ],
      "metadata": {
        "id": "l2tyzcwTuDCY"
      }
    },
    {
      "cell_type": "markdown",
      "source": [
        "## Today's Time Travel  \n",
        "1. **Creating Dates**: Marking sunny/rainy days  \n",
        "2. **Filtering by Time**: Find summer sales  \n",
        "3. **Resampling**: Weekly profit reports  \n",
        "4. **Real Use**: Best days to open your stand  "
      ],
      "metadata": {
        "id": "6Pn4DRrzuHW0"
      }
    },
    {
      "cell_type": "markdown",
      "source": [
        "## Making a Date Index  \n",
        "Like writing dates in your weather notebook:  "
      ],
      "metadata": {
        "id": "v3ufKvV3uROG"
      }
    },
    {
      "cell_type": "code",
      "source": [
        "import pandas as pd\n",
        "\n",
        "# Daily weather log\n",
        "dates = pd.date_range(\"2023-07-01\", periods=5, freq=\"D\")\n",
        "weather = pd.DataFrame({\n",
        "    \"Temperature\": [85, 88, 82, 90, 78],\n",
        "    \"Sales\": [50, 60, 40, 70, 30]\n",
        "}, index=dates)\n",
        "\n",
        "print(\"Weather Diary:\\n\", weather)"
      ],
      "metadata": {
        "colab": {
          "base_uri": "https://localhost:8080/"
        },
        "id": "6PeFj0gjuSWv",
        "outputId": "b5d6068e-e883-48bd-99e6-b63fbc0c72e0"
      },
      "execution_count": 1,
      "outputs": [
        {
          "output_type": "stream",
          "name": "stdout",
          "text": [
            "Weather Diary:\n",
            "             Temperature  Sales\n",
            "2023-07-01           85     50\n",
            "2023-07-02           88     60\n",
            "2023-07-03           82     40\n",
            "2023-07-04           90     70\n",
            "2023-07-05           78     30\n"
          ]
        }
      ]
    },
    {
      "cell_type": "markdown",
      "source": [
        "## Finding Hot Days  \n",
        "\"Show me only days above 85°F\":  "
      ],
      "metadata": {
        "id": "7jKi51fnupVp"
      }
    },
    {
      "cell_type": "code",
      "source": [
        "hot_days = weather[weather[\"Temperature\"] > 85]\n",
        "print(\"\\nHot Days:\\n\", hot_days)"
      ],
      "metadata": {
        "colab": {
          "base_uri": "https://localhost:8080/"
        },
        "id": "cspEp56huq87",
        "outputId": "e06b2e76-ffc0-45e4-9bf0-b3ace68a2617"
      },
      "execution_count": 2,
      "outputs": [
        {
          "output_type": "stream",
          "name": "stdout",
          "text": [
            "\n",
            "Hot Days:\n",
            "             Temperature  Sales\n",
            "2023-07-02           88     60\n",
            "2023-07-04           90     70\n"
          ]
        }
      ]
    },
    {
      "cell_type": "markdown",
      "source": [
        "## Weekly Summary  \n",
        "Turn daily notes into weekly summaries:  "
      ],
      "metadata": {
        "id": "14_hJP3dux89"
      }
    },
    {
      "cell_type": "code",
      "source": [
        "weekly = weather.resample(\"W\").mean()\n",
        "print(\"\\nWeekly Averages:\\n\", weekly)"
      ],
      "metadata": {
        "colab": {
          "base_uri": "https://localhost:8080/"
        },
        "id": "0MQPLZHpuzxO",
        "outputId": "b6acd59b-5359-4b19-d23f-b1ff99097a5f"
      },
      "execution_count": 3,
      "outputs": [
        {
          "output_type": "stream",
          "name": "stdout",
          "text": [
            "\n",
            "Weekly Averages:\n",
            "             Temperature      Sales\n",
            "2023-07-02    86.500000  55.000000\n",
            "2023-07-09    83.333333  46.666667\n"
          ]
        }
      ]
    },
    {
      "cell_type": "markdown",
      "source": [
        "## Best Opening Days  \n",
        "Find which weekday sells most lemonade:  "
      ],
      "metadata": {
        "id": "PCBL8PeavJOi"
      }
    },
    {
      "cell_type": "code",
      "source": [
        "weather[\"Weekday\"] = weather.index.day_name()\n",
        "best_day = weather.groupby(\"Weekday\")[\"Sales\"].mean().idxmax()\n",
        "print(f\"\\nBest sales day: {best_day}\")"
      ],
      "metadata": {
        "colab": {
          "base_uri": "https://localhost:8080/"
        },
        "id": "PKyTmdAFvKNt",
        "outputId": "b5f2e7a4-9da1-46de-ffea-1855217d6ed1"
      },
      "execution_count": 4,
      "outputs": [
        {
          "output_type": "stream",
          "name": "stdout",
          "text": [
            "\n",
            "Best sales day: Tuesday\n"
          ]
        }
      ]
    },
    {
      "cell_type": "markdown",
      "source": [
        "## Timekeeper Practice  \n",
        "1. Filter sales between July 2-4, 2023  \n",
        "2. Add a \"Weekend\" column (Sat/Sun = True)  \n",
        "3. Resample to 2-day periods showing max temp  \n",
        "\n",
        "*(Need help? Peek at solutions below!)*  "
      ],
      "metadata": {
        "id": "h02zFlfZwP2D"
      }
    },
    {
      "cell_type": "code",
      "source": [
        "# 1\n",
        "print(weather.loc[\"2023-07-02\":\"2023-07-04\"])\n",
        "\n",
        "# 2\n",
        "weather[\"Weekend\"] = weather[\"Weekday\"].isin([\"Saturday\", \"Sunday\"])\n",
        "\n",
        "# 3\n",
        "print(weather.resample(\"2D\").max())"
      ],
      "metadata": {
        "colab": {
          "base_uri": "https://localhost:8080/"
        },
        "id": "5qEOXFKwwT75",
        "outputId": "7f011a15-0749-4961-8079-f125573971bb"
      },
      "execution_count": 5,
      "outputs": [
        {
          "output_type": "stream",
          "name": "stdout",
          "text": [
            "            Temperature  Sales  Weekday\n",
            "2023-07-02           88     60   Sunday\n",
            "2023-07-03           82     40   Monday\n",
            "2023-07-04           90     70  Tuesday\n",
            "            Temperature  Sales    Weekday  Weekend\n",
            "2023-07-01           88     60     Sunday     True\n",
            "2023-07-03           90     70    Tuesday    False\n",
            "2023-07-05           78     30  Wednesday    False\n"
          ]
        }
      ]
    }
  ]
}

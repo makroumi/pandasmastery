{
  "nbformat": 4,
  "nbformat_minor": 0,
  "metadata": {
    "colab": {
      "provenance": []
    },
    "kernelspec": {
      "name": "python3",
      "display_name": "Python 3"
    },
    "language_info": {
      "name": "python"
    }
  },
  "cells": [
    {
      "cell_type": "markdown",
      "source": [
        "#🚀 Pandas Notebook 6: Supercharged Data\n",
        "\"Handling a MILLION customers without crashing!\""
      ],
      "metadata": {
        "id": "4IcSop-Y1UyY"
      }
    },
    {
      "cell_type": "markdown",
      "source": [
        "## 🎯 Today's Power-Ups  \n",
        "1. **Dtypes**: Shrinking giant DataFrames  \n",
        "2. **Chunking**: Processing in bite-sized pieces  \n",
        "3. **Parallel Processing**: Speed hacks  \n",
        "4. **Real Use**: Analyzing 1M+ sales records  "
      ],
      "metadata": {
        "id": "b73OJ6YK1Xdd"
      }
    },
    {
      "cell_type": "markdown",
      "source": [
        "## 🧠 Shrinking Your Data Footprint  \n",
        "Like packing a suitcase efficiently instead of throwing everything in!  "
      ],
      "metadata": {
        "id": "YM5tBgna1e_8"
      }
    },
    {
      "cell_type": "code",
      "source": [
        "import pandas as pd\n",
        "import numpy as np\n",
        "\n",
        "# Big dataset example\n",
        "data = {\n",
        "    \"CustomerID\": np.arange(1, 1_000_001),  # Default: 64-bit int (huge!)\n",
        "    \"Liters\": np.random.uniform(1, 5, 1_000_000),\n",
        "    \"Rating\": np.random.randint(1, 6, 1_000_000, dtype=np.int8)  # Tiny dtype!\n",
        "}\n",
        "\n",
        "df = pd.DataFrame(data)\n",
        "print(\"Original Memory:\", df.memory_usage(deep=True).sum() / 1024**2, \"MB\")\n",
        "\n",
        "# Optimize dtypes\n",
        "df[\"CustomerID\"] = pd.to_numeric(df[\"CustomerID\"], downcast=\"unsigned\")\n",
        "print(\"Optimized Memory:\", df.memory_usage(deep=True).sum() / 1024**2, \"MB\")"
      ],
      "metadata": {
        "colab": {
          "base_uri": "https://localhost:8080/"
        },
        "id": "pBdI_vHx1glS",
        "outputId": "97e8d72a-296c-4c48-c28d-e447797a9121"
      },
      "execution_count": 1,
      "outputs": [
        {
          "output_type": "stream",
          "name": "stdout",
          "text": [
            "Original Memory: 16.212589263916016 MB\n",
            "Optimized Memory: 12.397891998291016 MB\n"
          ]
        }
      ]
    },
    {
      "cell_type": "markdown",
      "source": [
        "## 🍕 Eating Pizza One Slice at a Time  \n",
        "How to read a 10GB file on a laptop with 8GB RAM:  "
      ],
      "metadata": {
        "id": "0I6OpVm13c5Y"
      }
    },
    {
      "cell_type": "code",
      "source": [
        "# Simulate reading a huge CSV in chunks\n",
        "chunk_iter = pd.read_csv(\"million_sales.csv\", chunksize=100_000)\n",
        "total_sales = 0\n",
        "\n",
        "for chunk in chunk_iter:\n",
        "    total_sales += chunk[\"Liters\"].sum()\n",
        "\n",
        "print(\"Total liters sold:\", total_sales)"
      ],
      "metadata": {
        "id": "7fU8viOh3fmm"
      },
      "execution_count": null,
      "outputs": []
    },
    {
      "cell_type": "markdown",
      "source": [
        "## ⚡ Turbo Boost for Apply()  \n",
        "Like having 4 cashiers instead of 1 at your stand:  "
      ],
      "metadata": {
        "id": "2-I_R5aD31gz"
      }
    },
    {
      "cell_type": "code",
      "source": [
        "!pip install swifter\n"
      ],
      "metadata": {
        "colab": {
          "base_uri": "https://localhost:8080/"
        },
        "id": "xligonrH3_VG",
        "outputId": "e0a65cf0-ce11-49a6-8188-6810fe472a83"
      },
      "execution_count": 4,
      "outputs": [
        {
          "output_type": "stream",
          "name": "stdout",
          "text": [
            "Collecting swifter\n",
            "  Downloading swifter-1.4.0.tar.gz (1.2 MB)\n",
            "\u001b[?25l     \u001b[90m━━━━━━━━━━━━━━━━━━━━━━━━━━━━━━━━━━━━━━━━\u001b[0m \u001b[32m0.0/1.2 MB\u001b[0m \u001b[31m?\u001b[0m eta \u001b[36m-:--:--\u001b[0m\r\u001b[2K     \u001b[90m━━━━━━━━━━━━━━━━━━━━━━━━━━━━━━━━━━━━━━━━\u001b[0m \u001b[32m1.2/1.2 MB\u001b[0m \u001b[31m48.3 MB/s\u001b[0m eta \u001b[36m0:00:00\u001b[0m\n",
            "\u001b[?25h  Preparing metadata (setup.py) ... \u001b[?25l\u001b[?25hdone\n",
            "Requirement already satisfied: pandas>=1.0.0 in /usr/local/lib/python3.11/dist-packages (from swifter) (2.2.2)\n",
            "Requirement already satisfied: psutil>=5.6.6 in /usr/local/lib/python3.11/dist-packages (from swifter) (5.9.5)\n",
            "Requirement already satisfied: dask>=2.10.0 in /usr/local/lib/python3.11/dist-packages (from dask[dataframe]>=2.10.0->swifter) (2024.12.1)\n",
            "Requirement already satisfied: tqdm>=4.33.0 in /usr/local/lib/python3.11/dist-packages (from swifter) (4.67.1)\n",
            "Requirement already satisfied: click>=8.1 in /usr/local/lib/python3.11/dist-packages (from dask>=2.10.0->dask[dataframe]>=2.10.0->swifter) (8.2.0)\n",
            "Requirement already satisfied: cloudpickle>=3.0.0 in /usr/local/lib/python3.11/dist-packages (from dask>=2.10.0->dask[dataframe]>=2.10.0->swifter) (3.1.1)\n",
            "Requirement already satisfied: fsspec>=2021.09.0 in /usr/local/lib/python3.11/dist-packages (from dask>=2.10.0->dask[dataframe]>=2.10.0->swifter) (2025.3.2)\n",
            "Requirement already satisfied: packaging>=20.0 in /usr/local/lib/python3.11/dist-packages (from dask>=2.10.0->dask[dataframe]>=2.10.0->swifter) (24.2)\n",
            "Requirement already satisfied: partd>=1.4.0 in /usr/local/lib/python3.11/dist-packages (from dask>=2.10.0->dask[dataframe]>=2.10.0->swifter) (1.4.2)\n",
            "Requirement already satisfied: pyyaml>=5.3.1 in /usr/local/lib/python3.11/dist-packages (from dask>=2.10.0->dask[dataframe]>=2.10.0->swifter) (6.0.2)\n",
            "Requirement already satisfied: toolz>=0.10.0 in /usr/local/lib/python3.11/dist-packages (from dask>=2.10.0->dask[dataframe]>=2.10.0->swifter) (0.12.1)\n",
            "Requirement already satisfied: importlib_metadata>=4.13.0 in /usr/local/lib/python3.11/dist-packages (from dask>=2.10.0->dask[dataframe]>=2.10.0->swifter) (8.7.0)\n",
            "Requirement already satisfied: dask-expr<1.2,>=1.1 in /usr/local/lib/python3.11/dist-packages (from dask[dataframe]>=2.10.0->swifter) (1.1.21)\n",
            "Requirement already satisfied: numpy>=1.23.2 in /usr/local/lib/python3.11/dist-packages (from pandas>=1.0.0->swifter) (2.0.2)\n",
            "Requirement already satisfied: python-dateutil>=2.8.2 in /usr/local/lib/python3.11/dist-packages (from pandas>=1.0.0->swifter) (2.9.0.post0)\n",
            "Requirement already satisfied: pytz>=2020.1 in /usr/local/lib/python3.11/dist-packages (from pandas>=1.0.0->swifter) (2025.2)\n",
            "Requirement already satisfied: tzdata>=2022.7 in /usr/local/lib/python3.11/dist-packages (from pandas>=1.0.0->swifter) (2025.2)\n",
            "Requirement already satisfied: pyarrow>=14.0.1 in /usr/local/lib/python3.11/dist-packages (from dask-expr<1.2,>=1.1->dask[dataframe]>=2.10.0->swifter) (18.1.0)\n",
            "Requirement already satisfied: zipp>=3.20 in /usr/local/lib/python3.11/dist-packages (from importlib_metadata>=4.13.0->dask>=2.10.0->dask[dataframe]>=2.10.0->swifter) (3.21.0)\n",
            "Requirement already satisfied: locket in /usr/local/lib/python3.11/dist-packages (from partd>=1.4.0->dask>=2.10.0->dask[dataframe]>=2.10.0->swifter) (1.0.0)\n",
            "Requirement already satisfied: six>=1.5 in /usr/local/lib/python3.11/dist-packages (from python-dateutil>=2.8.2->pandas>=1.0.0->swifter) (1.17.0)\n",
            "Building wheels for collected packages: swifter\n",
            "  Building wheel for swifter (setup.py) ... \u001b[?25l\u001b[?25hdone\n",
            "  Created wheel for swifter: filename=swifter-1.4.0-py3-none-any.whl size=16505 sha256=754c45c0bd1612b2dc0966b6678380291d13198945f64060b8a1cea64d2f585d\n",
            "  Stored in directory: /root/.cache/pip/wheels/ef/7f/bd/9bed48f078f3ee1fa75e0b29b6e0335ce1cb03a38d3443b3a3\n",
            "Successfully built swifter\n",
            "Installing collected packages: swifter\n",
            "Successfully installed swifter-1.4.0\n"
          ]
        }
      ]
    },
    {
      "cell_type": "code",
      "source": [
        "# Install first: pip install swifter\n",
        "import swifter\n",
        "\n",
        "# Slow apply:\n",
        "# df[\"Rating\"].apply(lambda x: x + 1)\n",
        "\n",
        "# Fast apply:\n",
        "df[\"Rating\"] = df[\"Rating\"].swifter.apply(lambda x: x + 1)"
      ],
      "metadata": {
        "id": "lv0NLXgj35O9"
      },
      "execution_count": 5,
      "outputs": []
    },
    {
      "cell_type": "markdown",
      "source": [
        "## 📈 Analyzing 1M Rows Efficiently  "
      ],
      "metadata": {
        "id": "8EgQH27A4MLG"
      }
    },
    {
      "cell_type": "code",
      "source": [
        "# Optimized aggregation\n",
        "results = (\n",
        "    df\n",
        "    .astype({\"Rating\": \"category\"})  # Text-like columns → categories\n",
        "    .groupby(\"Rating\")\n",
        "    .agg({\"Liters\": [\"sum\", \"mean\"], \"CustomerID\": \"count\"})\n",
        ")\n",
        "print(results)"
      ],
      "metadata": {
        "colab": {
          "base_uri": "https://localhost:8080/"
        },
        "id": "pch5QBF24Nqz",
        "outputId": "8fc5bbd0-b1c1-4006-8bea-4762e72ab15e"
      },
      "execution_count": 6,
      "outputs": [
        {
          "output_type": "stream",
          "name": "stdout",
          "text": [
            "               Liters           CustomerID\n",
            "                  sum      mean      count\n",
            "Rating                                    \n",
            "2       598964.746999  2.997387     199829\n",
            "3       600299.862527  3.001514     199999\n",
            "4       599399.751519  3.000374     199775\n",
            "5       602345.697219  3.001987     200649\n",
            "6       597546.419174  2.991501     199748\n"
          ]
        }
      ]
    },
    {
      "cell_type": "markdown",
      "source": [
        "## ✏️ Optimization Drills  \n",
        "1. Convert these columns to minimal dtypes:  \n",
        "   - `pd.Series([1,2,3], dtype='float64')`  \n",
        "   - `pd.Series(['a','b','a'], dtype='object')`  \n",
        "2. Read a file in chunks to find average rating  \n",
        "3. Bonus: Time normal vs. swifter apply on 1M rows  \n",
        "\n",
        "*(Solutions next cell!)*  "
      ],
      "metadata": {
        "id": "PMaf5qnx4YZ7"
      }
    },
    {
      "cell_type": "code",
      "source": [
        "# 1\n",
        "float_series = pd.Series([1,2,3]).astype(\"float32\")\n",
        "cat_series = pd.Series(['a','b','a']).astype(\"category\")\n",
        "\n",
        "# 2\n",
        "chunk_iter = pd.read_csv(\"sales.csv\", chunksize=50_000)\n",
        "ratings = []\n",
        "for chunk in chunk_iter:\n",
        "    ratings.append(chunk[\"Rating\"].mean())\n",
        "print(\"Overall avg:\", np.mean(ratings))\n",
        "\n",
        "# 3\n",
        "%timeit df[\"Rating\"].apply(lambda x: x+1)\n",
        "%timeit df[\"Rating\"].swifter.apply(lambda x: x+1)"
      ],
      "metadata": {
        "id": "7NOqsiVA4f9N"
      },
      "execution_count": null,
      "outputs": []
    }
  ]
}
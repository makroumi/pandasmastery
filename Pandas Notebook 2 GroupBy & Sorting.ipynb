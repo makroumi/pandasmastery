{
  "nbformat": 4,
  "nbformat_minor": 0,
  "metadata": {
    "colab": {
      "provenance": []
    },
    "kernelspec": {
      "name": "python3",
      "display_name": "Python 3"
    },
    "language_info": {
      "name": "python"
    }
  },
  "cells": [
    {
      "cell_type": "markdown",
      "source": [
        "# Pandas Notebook 2: GroupBy & Sorting\n",
        "\"Playing with LEGO blocks made of data!\""
      ],
      "metadata": {
        "id": "4lJdZz8JlrEo"
      }
    },
    {
      "cell_type": "markdown",
      "source": [
        "## Today's Fun Activities  \n",
        "1. **GroupBy**: Like sorting LEGO by color 🟡🔴🔵  \n",
        "2. **Sorting**: Ordering toys by size 📏  \n",
        "3. **Real Play**: Analyzing a toy store's sales   "
      ],
      "metadata": {
        "id": "FRd7UnS_lvZz"
      }
    },
    {
      "cell_type": "markdown",
      "source": [
        "## 🟡🔴🔵 GroupBy Basics  \n",
        "Imagine you dumped out a LEGO box:  \n",
        "- **Step 1**: Gather same-color bricks together  \n",
        "- **Step 2**: Count/measure each pile  \n",
        "- **Step 3**: Draw conclusions (\"I have more blue blocks!\")  "
      ],
      "metadata": {
        "id": "NHiWMZ_dl5NQ"
      }
    },
    {
      "cell_type": "code",
      "source": [
        "import pandas as pd\n",
        "\n",
        "toys = pd.DataFrame({\n",
        "    \"Color\": [\"Red\", \"Blue\", \"Red\", \"Green\", \"Blue\"],\n",
        "    \"Size\": [2, 3, 1, 4, 2],\n",
        "    \"Price\": [5, 8, 3, 7, 6]\n",
        "})\n",
        "\n",
        "# Group by color (make LEGO piles)\n",
        "color_groups = toys.groupby(\"Color\")\n",
        "\n",
        "# Count each pile\n",
        "print(\"Number of toys per color:\\n\", color_groups.size())"
      ],
      "metadata": {
        "colab": {
          "base_uri": "https://localhost:8080/"
        },
        "id": "nZVA2rgBl6nm",
        "outputId": "05311201-876e-4a01-df06-34d63a4d84c0"
      },
      "execution_count": 1,
      "outputs": [
        {
          "output_type": "stream",
          "name": "stdout",
          "text": [
            "Number of toys per color:\n",
            " Color\n",
            "Blue     2\n",
            "Green    1\n",
            "Red      2\n",
            "dtype: int64\n"
          ]
        }
      ]
    },
    {
      "cell_type": "markdown",
      "source": [
        "## 📏 Sorting from Big to Small  \n",
        "Just like lining up action figures by height!  "
      ],
      "metadata": {
        "id": "sKKTbZ-AmUyV"
      }
    },
    {
      "cell_type": "code",
      "source": [
        "# Sort by size (descending)\n",
        "sorted_toys = toys.sort_values(\"Size\", ascending=False)\n",
        "print(\"\\nToys from biggest to smallest:\\n\", sorted_toys)"
      ],
      "metadata": {
        "colab": {
          "base_uri": "https://localhost:8080/"
        },
        "id": "btF21MDqmVwH",
        "outputId": "e8634cf9-63d2-4918-f38d-4c8296ef4da6"
      },
      "execution_count": 2,
      "outputs": [
        {
          "output_type": "stream",
          "name": "stdout",
          "text": [
            "\n",
            "Toys from biggest to smallest:\n",
            "    Color  Size  Price\n",
            "3  Green     4      7\n",
            "1   Blue     3      8\n",
            "0    Red     2      5\n",
            "4   Blue     2      6\n",
            "2    Red     1      3\n"
          ]
        }
      ]
    },
    {
      "cell_type": "markdown",
      "source": [
        "## Analyzing Store Sales  \n",
        "\"Which color sells best? What's the average price?\"  "
      ],
      "metadata": {
        "id": "6nFoRYJ9ml-M"
      }
    },
    {
      "cell_type": "code",
      "source": [
        "# Group by color + get stats\n",
        "color_stats = toys.groupby(\"Color\").agg({\n",
        "    \"Price\": [\"mean\", \"max\"],  # Avg and highest price\n",
        "    \"Size\": \"count\"            # Number sold\n",
        "})\n",
        "print(\"\\nColor stats:\\n\", color_stats)"
      ],
      "metadata": {
        "colab": {
          "base_uri": "https://localhost:8080/"
        },
        "id": "6EWzlnbVmoqi",
        "outputId": "a6842c26-cff9-4fda-d55c-5395e1b2e12b"
      },
      "execution_count": 3,
      "outputs": [
        {
          "output_type": "stream",
          "name": "stdout",
          "text": [
            "\n",
            "Color stats:\n",
            "       Price      Size\n",
            "       mean max count\n",
            "Color                \n",
            "Blue    7.0   8     2\n",
            "Green   7.0   7     1\n",
            "Red     4.0   5     2\n"
          ]
        }
      ]
    },
    {
      "cell_type": "markdown",
      "source": [
        "## Playtime!  \n",
        "1. Group `toys` by **size** and find average price per size  \n",
        "2. Sort toys by **price** (cheapest first)  \n",
        "3. **Challenge**: Find the most expensive toy in each color group  \n",
        "\n",
        "*(Solutions below - peek if stuck!)*  "
      ],
      "metadata": {
        "id": "IhpdEFxRnBFb"
      }
    },
    {
      "cell_type": "code",
      "source": [
        "# 1\n",
        "print(toys.groupby(\"Size\")[\"Price\"].mean())\n",
        "\n",
        "# 2\n",
        "print(toys.sort_values(\"Price\"))\n",
        "\n",
        "# 3\n",
        "print(toys.loc[toys.groupby(\"Color\")[\"Price\"].idxmax()])"
      ],
      "metadata": {
        "colab": {
          "base_uri": "https://localhost:8080/"
        },
        "id": "B4yip6KtnD_o",
        "outputId": "3dabc73d-3c38-456a-863e-fa779f643c88"
      },
      "execution_count": 5,
      "outputs": [
        {
          "output_type": "stream",
          "name": "stdout",
          "text": [
            "Size\n",
            "1    3.0\n",
            "2    5.5\n",
            "3    8.0\n",
            "4    7.0\n",
            "Name: Price, dtype: float64\n",
            "   Color  Size  Price\n",
            "2    Red     1      3\n",
            "0    Red     2      5\n",
            "4   Blue     2      6\n",
            "3  Green     4      7\n",
            "1   Blue     3      8\n",
            "   Color  Size  Price\n",
            "1   Blue     3      8\n",
            "3  Green     4      7\n",
            "0    Red     2      5\n"
          ]
        }
      ]
    },
    {
      "cell_type": "code",
      "source": [],
      "metadata": {
        "id": "4ddhY4w_nyqV"
      },
      "execution_count": null,
      "outputs": []
    }
  ]
}

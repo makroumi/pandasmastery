{
  "nbformat": 4,
  "nbformat_minor": 0,
  "metadata": {
    "colab": {
      "provenance": []
    },
    "kernelspec": {
      "name": "python3",
      "display_name": "Python 3"
    },
    "language_info": {
      "name": "python"
    }
  },
  "cells": [
    {
      "cell_type": "markdown",
      "source": [
        "# Pandas Notebook 1: DataFrames Made Easy\n",
        "\"Like Excel, but with superpowers!\""
      ],
      "metadata": {
        "id": "RT0zWeH7jZpx"
      }
    },
    {
      "cell_type": "markdown",
      "source": [
        "## What You'll Learn  \n",
        "1. **Pandas Series**: Smart lists  \n",
        "2. **DataFrames**: Fancy tables  \n",
        "3. **Basic Operations**: Filtering & math  \n",
        "4. **Real Use**: COVID case analysis  "
      ],
      "metadata": {
        "id": "CFIqZC6ZjbsF"
      }
    },
    {
      "cell_type": "code",
      "source": [
        "import pandas as pd\n",
        "\n",
        "# Create a Series (like a NumPy array with labels)\n",
        "fruits = pd.Series([5, 2, 7], index=[\"🍎\", \"🍌\", \"🍊\"], name=\"Fruit Count\")\n",
        "print(fruits)"
      ],
      "metadata": {
        "colab": {
          "base_uri": "https://localhost:8080/"
        },
        "id": "XOl2G3z7jlkd",
        "outputId": "dab97071-3292-4797-9e5e-eb3bc8d2bac3"
      },
      "execution_count": 1,
      "outputs": [
        {
          "output_type": "stream",
          "name": "stdout",
          "text": [
            "🍎    5\n",
            "🍌    2\n",
            "🍊    7\n",
            "Name: Fruit Count, dtype: int64\n"
          ]
        }
      ]
    },
    {
      "cell_type": "code",
      "source": [
        "# Create a DataFrame from a dictionary\n",
        "data = {\n",
        "    \"City\": [\"Paris\", \"Tokyo\", \"NYC\"],\n",
        "    \"Population (M)\": [2.1, 9.3, 8.8],\n",
        "    \"Language\": [\"French\", \"Japanese\", \"English\"]\n",
        "}\n",
        "\n",
        "df = pd.DataFrame(data)\n",
        "print(\"\\nCity Data:\")\n",
        "print(df)"
      ],
      "metadata": {
        "colab": {
          "base_uri": "https://localhost:8080/"
        },
        "id": "mEUahg9Kj3Vi",
        "outputId": "34b5d39d-5456-4a23-ca10-851a0c3aa67e"
      },
      "execution_count": 2,
      "outputs": [
        {
          "output_type": "stream",
          "name": "stdout",
          "text": [
            "\n",
            "City Data:\n",
            "    City  Population (M)  Language\n",
            "0  Paris             2.1    French\n",
            "1  Tokyo             9.3  Japanese\n",
            "2    NYC             8.8   English\n"
          ]
        }
      ]
    },
    {
      "cell_type": "code",
      "source": [
        "# Math operations\n",
        "print(\"\\nDouble population:\\n\", df[\"Population (M)\"] * 2)\n",
        "\n",
        "# Filtering\n",
        "big_cities = df[df[\"Population (M)\"] > 3]\n",
        "print(\"\\nBig cities:\\n\", big_cities)"
      ],
      "metadata": {
        "colab": {
          "base_uri": "https://localhost:8080/"
        },
        "id": "14HwVC0pkHfM",
        "outputId": "41b40d86-f9d3-499f-b565-418778daa6bd"
      },
      "execution_count": 3,
      "outputs": [
        {
          "output_type": "stream",
          "name": "stdout",
          "text": [
            "\n",
            "Double population:\n",
            " 0     4.2\n",
            "1    18.6\n",
            "2    17.6\n",
            "Name: Population (M), dtype: float64\n",
            "\n",
            "Big cities:\n",
            "     City  Population (M)  Language\n",
            "1  Tokyo             9.3  Japanese\n",
            "2    NYC             8.8   English\n"
          ]
        }
      ]
    },
    {
      "cell_type": "code",
      "source": [
        "# Simulated COVID data\n",
        "covid_data = pd.DataFrame({\n",
        "    \"Date\": [\"2023-01-01\", \"2023-01-02\", \"2023-01-03\"],\n",
        "    \"Cases\": [120, 135, 158],\n",
        "    \"Deaths\": [2, 3, 1]\n",
        "})\n",
        "\n",
        "# Calculate death rate\n",
        "covid_data[\"Death Rate %\"] = (covid_data[\"Deaths\"] / covid_data[\"Cases\"]) * 100\n",
        "print(\"\\nCOVID Analysis:\\n\", covid_data)"
      ],
      "metadata": {
        "colab": {
          "base_uri": "https://localhost:8080/"
        },
        "id": "tNTDMERpkc4d",
        "outputId": "177659bf-4b74-4dac-f843-13fb2c84bed4"
      },
      "execution_count": 4,
      "outputs": [
        {
          "output_type": "stream",
          "name": "stdout",
          "text": [
            "\n",
            "COVID Analysis:\n",
            "          Date  Cases  Deaths  Death Rate %\n",
            "0  2023-01-01    120       2      1.666667\n",
            "1  2023-01-02    135       3      2.222222\n",
            "2  2023-01-03    158       1      0.632911\n"
          ]
        }
      ]
    },
    {
      "cell_type": "markdown",
      "source": [
        "## Practice Time!  \n",
        "1. Create a Series of temperatures: [22, 25, 19] with cities as index  \n",
        "2. Make a DataFrame for 3 movies with columns: Title, Year, Rating  \n",
        "3. Filter movies with Rating > 8  \n",
        "4. Add a \"Decade\" column (e.g., 2023 → 2020s)  \n",
        "\n",
        "*(Solutions in next cell)*  "
      ],
      "metadata": {
        "id": "qG0PTRxfkwm8"
      }
    },
    {
      "cell_type": "code",
      "source": [
        "# 1\n",
        "temps = pd.Series([22, 25, 19], index=[\"London\", \"Paris\", \"Rome\"])\n",
        "\n",
        "# 2\n",
        "movies = pd.DataFrame({\n",
        "    \"Title\": [\"Inception\", \"Interstellar\", \"Joker\"],\n",
        "    \"Year\": [2010, 2014, 2019],\n",
        "    \"Rating\": [8.8, 8.6, 8.4]\n",
        "})\n",
        "\n",
        "# 3\n",
        "top_movies = movies[movies[\"Rating\"] > 8.5]\n",
        "\n",
        "# 4\n",
        "movies[\"Decade\"] = (movies[\"Year\"] // 10) * 10"
      ],
      "metadata": {
        "id": "2oI_BzKBk1Fp"
      },
      "execution_count": 5,
      "outputs": []
    }
  ]
}

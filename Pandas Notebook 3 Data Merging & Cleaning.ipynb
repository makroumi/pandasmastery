{
  "nbformat": 4,
  "nbformat_minor": 0,
  "metadata": {
    "colab": {
      "provenance": []
    },
    "kernelspec": {
      "name": "python3",
      "display_name": "Python 3"
    },
    "language_info": {
      "name": "python"
    }
  },
  "cells": [
    {
      "cell_type": "markdown",
      "source": [
        "# Pandas Notebook 3: Data Merging & Cleaning\n",
        "\"Like mixing lemonade flavors and removing yucky bits!\""
      ],
      "metadata": {
        "id": "i4ofyMWio7NI"
      }
    },
    {
      "cell_type": "markdown",
      "source": [
        "## Today's Adventure  \n",
        "1. **Merging**: Combining two lemonade recipe books  \n",
        "2. **Missing Data**: Finding spoiled lemons  \n",
        "3. **Real Task**: Creating the perfect recipe!  "
      ],
      "metadata": {
        "id": "oJ_JF0copF_w"
      }
    },
    {
      "cell_type": "markdown",
      "source": [
        "## Combining Two Recipe Books  \n",
        "You have:  \n",
        "- **Book A**: Lemonade recipes  \n",
        "- **Book B**: Customer ratings  \n",
        "Let's stitch them together!  "
      ],
      "metadata": {
        "id": "biUvpdyYpQIx"
      }
    },
    {
      "cell_type": "code",
      "source": [
        "import pandas as pd\n",
        "\n",
        "# Book A: Recipes\n",
        "recipes = pd.DataFrame({\n",
        "    \"Recipe_ID\": [1, 2, 3],\n",
        "    \"Flavor\": [\"Classic\", \"Berry\", \"Mint\"],\n",
        "    \"Lemons\": [4, 5, 3]\n",
        "})\n",
        "\n",
        "# Book B: Ratings\n",
        "ratings = pd.DataFrame({\n",
        "    \"Recipe_ID\": [1, 2, 4],\n",
        "    \"Stars\": [4.5, 3.8, 4.0]\n",
        "})\n",
        "\n",
        "# Merge them (like stapling books together)\n",
        "combined = pd.merge(recipes, ratings, on=\"Recipe_ID\", how=\"left\")\n",
        "print(\"Combined Book:\\n\", combined)"
      ],
      "metadata": {
        "colab": {
          "base_uri": "https://localhost:8080/"
        },
        "id": "WHVAnLygpRrx",
        "outputId": "2461218d-f76a-4a7a-c254-465b488cd792"
      },
      "execution_count": 3,
      "outputs": [
        {
          "output_type": "stream",
          "name": "stdout",
          "text": [
            "Combined Book:\n",
            "    Recipe_ID   Flavor  Lemons  Stars\n",
            "0          1  Classic       4    4.5\n",
            "1          2    Berry       5    3.8\n",
            "2          3     Mint       3    NaN\n"
          ]
        }
      ]
    },
    {
      "cell_type": "markdown",
      "source": [
        "## Dealing with Missing Ratings  \n",
        "NaN = \"Not a Number\" (like an empty spot in your recipe book)  "
      ],
      "metadata": {
        "id": "4U16E3cIreuR"
      }
    },
    {
      "cell_type": "code",
      "source": [
        "# Option 1: Remove spoiled rows\n",
        "clean1 = combined.dropna()\n",
        "print(\"\\nOption 1: Throw away spoiled\\n\", clean1)\n",
        "\n",
        "# Option 2: Fill with average rating\n",
        "avg = combined[\"Stars\"].mean()\n",
        "clean2 = combined.fillna({\"Stars\": avg})\n",
        "print(\"\\nOption 2: Use average rating\\n\", clean2)"
      ],
      "metadata": {
        "colab": {
          "base_uri": "https://localhost:8080/"
        },
        "id": "vB_zhPCPrqrp",
        "outputId": "6f520387-a20c-4fd7-9eb5-ec9d3db952f8"
      },
      "execution_count": 4,
      "outputs": [
        {
          "output_type": "stream",
          "name": "stdout",
          "text": [
            "\n",
            "Option 1: Throw away spoiled\n",
            "    Recipe_ID   Flavor  Lemons  Stars\n",
            "0          1  Classic       4    4.5\n",
            "1          2    Berry       5    3.8\n",
            "\n",
            "Option 2: Use average rating\n",
            "    Recipe_ID   Flavor  Lemons  Stars\n",
            "0          1  Classic       4   4.50\n",
            "1          2    Berry       5   3.80\n",
            "2          3     Mint       3   4.15\n"
          ]
        }
      ]
    },
    {
      "cell_type": "markdown",
      "source": [
        "## Finding the Best Recipe  \n",
        "Now let's clean and analyze!  "
      ],
      "metadata": {
        "id": "MTLMSlyZsBb5"
      }
    },
    {
      "cell_type": "code",
      "source": [
        "# Fill missing with average & calculate lemon efficiency\n",
        "final = clean2.copy()\n",
        "final[\"Lemon Efficiency\"] = final[\"Stars\"] / final[\"Lemons\"]\n",
        "print(\"\\nFinal Recipes:\\n\", final.sort_values(\"Lemon Efficiency\", ascending=False))"
      ],
      "metadata": {
        "colab": {
          "base_uri": "https://localhost:8080/"
        },
        "id": "Q9GaaL9DsCtF",
        "outputId": "f688fe15-0bcc-4869-bb44-a40f38170937"
      },
      "execution_count": 5,
      "outputs": [
        {
          "output_type": "stream",
          "name": "stdout",
          "text": [
            "\n",
            "Final Recipes:\n",
            "    Recipe_ID   Flavor  Lemons  Stars  Lemon Efficiency\n",
            "2          3     Mint       3   4.15          1.383333\n",
            "0          1  Classic       4   4.50          1.125000\n",
            "1          2    Berry       5   3.80          0.760000\n"
          ]
        }
      ]
    },
    {
      "cell_type": "markdown",
      "source": [
        "## Lemonade Stand Practice  \n",
        "1. Merge these with `how=\"outer\"`:  \n",
        "   - `sales = pd.DataFrame({\"Day\": [1,2], \"Cups\": [50,30]})`  \n",
        "   - `weather = pd.DataFrame({\"Day\": [2,3], \"Temp\": [85, 72]})`  \n",
        "2. Fill missing temps with 75  \n",
        "3. Bonus: Calculate \"Cups per Degree\"  \n",
        "\n",
        "*(Need help? Next cell has answers!)*  "
      ],
      "metadata": {
        "id": "RycLmGs1sP8T"
      }
    },
    {
      "cell_type": "code",
      "source": [
        "# 1\n",
        "sales = pd.DataFrame({\"Day\": [1,2], \"Cups\": [50,30]})\n",
        "weather = pd.DataFrame({\"Day\": [2,3], \"Temp\": [85, 72]})\n",
        "\n",
        "merged = pd.merge(sales, weather, on=\"Day\", how=\"outer\")\n",
        "print(merged)\n",
        "# 2\n",
        "merged[\"Temp\"] = merged[\"Temp\"].fillna(75)\n",
        "print(merged[\"Temp\"])\n",
        "# 3\n",
        "merged[\"Cups per Degree\"] = merged[\"Cups\"] / merged[\"Temp\"]\n",
        "print(merged[\"Cups per Degree\"])"
      ],
      "metadata": {
        "colab": {
          "base_uri": "https://localhost:8080/"
        },
        "id": "lXkecP0Osbmv",
        "outputId": "120d1214-4a36-48fb-8c8a-7e3bd627f94b"
      },
      "execution_count": 8,
      "outputs": [
        {
          "output_type": "stream",
          "name": "stdout",
          "text": [
            "   Day  Cups  Temp\n",
            "0    1  50.0   NaN\n",
            "1    2  30.0  85.0\n",
            "2    3   NaN  72.0\n",
            "0    75.0\n",
            "1    85.0\n",
            "2    72.0\n",
            "Name: Temp, dtype: float64\n",
            "0    0.666667\n",
            "1    0.352941\n",
            "2         NaN\n",
            "Name: Cups per Degree, dtype: float64\n"
          ]
        }
      ]
    }
  ]
}

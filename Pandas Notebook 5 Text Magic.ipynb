{
  "nbformat": 4,
  "nbformat_minor": 0,
  "metadata": {
    "colab": {
      "provenance": []
    },
    "kernelspec": {
      "name": "python3",
      "display_name": "Python 3"
    },
    "language_info": {
      "name": "python"
    }
  },
  "cells": [
    {
      "cell_type": "markdown",
      "source": [
        "#📝 Pandas Notebook 5: Text Magic\n",
        "\"What customers are saying about your lemonade!\""
      ],
      "metadata": {
        "id": "NfJEJk37yJae"
      }
    },
    {
      "cell_type": "markdown",
      "source": [
        "## 🎯 Today's Adventure  \n",
        "1. **Text Cleaning**: Fixing messy reviews  \n",
        "2. **Keyword Search**: Finding \"sweet\" or \"sour\" comments  \n",
        "3. **Apply()**: Custom rating adjustments  \n",
        "4. **Real Use**: Analyzing 1000+ reviews  "
      ],
      "metadata": {
        "id": "3-Q8V0zNyM-z"
      }
    },
    {
      "cell_type": "markdown",
      "source": [
        "## 🧼 Cleaning Reviews  \n",
        "Like fixing spelling mistakes in your guest book:  "
      ],
      "metadata": {
        "id": "22TFg8-gyTeB"
      }
    },
    {
      "cell_type": "code",
      "source": [
        "import pandas as pd\n",
        "\n",
        "reviews = pd.DataFrame({\n",
        "    \"Comment\": [\n",
        "        \"Best lemonade EVER!!!\",\n",
        "        \"too   sweet  \",\n",
        "        \"Lemonade was sour\",\n",
        "        \"pricey but good\"\n",
        "    ],\n",
        "    \"Rating\": [5, 3, 2, 4]\n",
        "})\n",
        "\n",
        "# Fix whitespace and lowercase everything\n",
        "reviews[\"Clean_Text\"] = (\n",
        "    reviews[\"Comment\"]\n",
        "    .str.lower()           # \"BEST\" → \"best\"\n",
        "    .str.replace(r'\\s+', ' ', regex=True)  # Fix extra spaces\n",
        ")\n",
        "print(reviews[[\"Comment\", \"Clean_Text\"]])"
      ],
      "metadata": {
        "colab": {
          "base_uri": "https://localhost:8080/"
        },
        "id": "hh2nnJHpyUtG",
        "outputId": "6d238f81-2504-4240-9081-2641850f466c"
      },
      "execution_count": 1,
      "outputs": [
        {
          "output_type": "stream",
          "name": "stdout",
          "text": [
            "                 Comment             Clean_Text\n",
            "0  Best lemonade EVER!!!  best lemonade ever!!!\n",
            "1          too   sweet               too sweet \n",
            "2      Lemonade was sour      lemonade was sour\n",
            "3        pricey but good        pricey but good\n"
          ]
        }
      ]
    },
    {
      "cell_type": "markdown",
      "source": [
        "## 🔍 Finding Flavor Mentions  \n",
        "\"Which reviews talk about sweetness?\"  "
      ],
      "metadata": {
        "id": "AX4Ya3h8yoNb"
      }
    },
    {
      "cell_type": "code",
      "source": [
        "sweet_reviews = reviews[\n",
        "    reviews[\"Clean_Text\"].str.contains(\"sweet|yummy\", regex=True)\n",
        "]\n",
        "print(\"\\nSweet mentions:\\n\", sweet_reviews)"
      ],
      "metadata": {
        "colab": {
          "base_uri": "https://localhost:8080/"
        },
        "id": "XiIw6nzQyrs-",
        "outputId": "09f7f2a4-0120-4586-841a-ffeaea894796"
      },
      "execution_count": 2,
      "outputs": [
        {
          "output_type": "stream",
          "name": "stdout",
          "text": [
            "\n",
            "Sweet mentions:\n",
            "          Comment  Rating  Clean_Text\n",
            "1  too   sweet         3  too sweet \n"
          ]
        }
      ]
    },
    {
      "cell_type": "markdown",
      "source": [
        "## ✏️ Rewarding Nice Reviews  \n",
        "Give +1 star for using \"best\" or \"good\":  "
      ],
      "metadata": {
        "id": "5nd5oPs3zX86"
      }
    },
    {
      "cell_type": "code",
      "source": [
        "def bonus_star(text):\n",
        "    if \"best\" in text or \"good\" in text:\n",
        "        return 1\n",
        "    return 0\n",
        "\n",
        "reviews[\"Bonus\"] = reviews[\"Clean_Text\"].apply(bonus_star)\n",
        "reviews[\"Final_Rating\"] = reviews[\"Rating\"] + reviews[\"Bonus\"]\n",
        "print(\"\\nWith bonus stars:\\n\", reviews)"
      ],
      "metadata": {
        "colab": {
          "base_uri": "https://localhost:8080/"
        },
        "id": "xCVuSwUxzh3A",
        "outputId": "3dd674b8-bd42-4f39-e8cb-3ef8fcbe1a8b"
      },
      "execution_count": 3,
      "outputs": [
        {
          "output_type": "stream",
          "name": "stdout",
          "text": [
            "\n",
            "With bonus stars:\n",
            "                  Comment  Rating             Clean_Text  Bonus  Final_Rating\n",
            "0  Best lemonade EVER!!!       5  best lemonade ever!!!      1             6\n",
            "1          too   sweet         3             too sweet       0             3\n",
            "2      Lemonade was sour       2      lemonade was sour      0             2\n",
            "3        pricey but good       4        pricey but good      1             5\n"
          ]
        }
      ]
    },
    {
      "cell_type": "markdown",
      "source": [
        "## 📊 Analyzing Massive Feedback  "
      ],
      "metadata": {
        "id": "kN4obg4u0CNP"
      }
    },
    {
      "cell_type": "code",
      "source": [
        "# Simulate big data\n",
        "big_reviews = pd.DataFrame({\n",
        "    \"Review\": [\"great\"]*500 + [\"ok\"]*300 + [\"bad\"]*200,\n",
        "    \"Stars\": [5]*500 + [3]*300 + [1]*200\n",
        "})\n",
        "\n",
        "# Top keywords\n",
        "keywords = [\"great\", \"ok\", \"bad\"]\n",
        "counts = big_reviews[\"Review\"].value_counts()\n",
        "print(\"\\nReview Word Counts:\\n\", counts.loc[keywords])"
      ],
      "metadata": {
        "colab": {
          "base_uri": "https://localhost:8080/"
        },
        "id": "tPejy-0v0C7R",
        "outputId": "335ed093-79f7-4079-aff5-4576b15602db"
      },
      "execution_count": 4,
      "outputs": [
        {
          "output_type": "stream",
          "name": "stdout",
          "text": [
            "\n",
            "Review Word Counts:\n",
            " Review\n",
            "great    500\n",
            "ok       300\n",
            "bad      200\n",
            "Name: count, dtype: int64\n"
          ]
        }
      ]
    },
    {
      "cell_type": "markdown",
      "source": [
        "## ✏️ Review Manager Practice  \n",
        "1. Clean: Make all text lowercase and remove \"!!!\"  \n",
        "2. Find reviews containing \"lemon\" or \"price\"  \n",
        "3. Create \"Length\" column counting letters per review  \n",
        "\n",
        "*(Solutions next cell!)*  "
      ],
      "metadata": {
        "id": "pcTid3lA0S0P"
      }
    },
    {
      "cell_type": "code",
      "source": [
        "# 1\n",
        "reviews[\"Cleaner\"] = (\n",
        "    reviews[\"Comment\"].str.lower().str.replace(r'!+', '', regex=True)\n",
        ")\n",
        "\n",
        "# 2\n",
        "print(reviews[reviews[\"Clean_Text\"].str.contains(\"lemon|price\")])\n",
        "\n",
        "# 3\n",
        "reviews[\"Length\"] = reviews[\"Comment\"].str.len()"
      ],
      "metadata": {
        "colab": {
          "base_uri": "https://localhost:8080/"
        },
        "id": "ZtB_5O9r0W67",
        "outputId": "46dc3322-4433-4043-c17d-f82675346f0d"
      },
      "execution_count": 5,
      "outputs": [
        {
          "output_type": "stream",
          "name": "stdout",
          "text": [
            "                 Comment  Rating             Clean_Text  Bonus  Final_Rating  \\\n",
            "0  Best lemonade EVER!!!       5  best lemonade ever!!!      1             6   \n",
            "2      Lemonade was sour       2      lemonade was sour      0             2   \n",
            "3        pricey but good       4        pricey but good      1             5   \n",
            "\n",
            "              Cleaner  \n",
            "0  best lemonade ever  \n",
            "2   lemonade was sour  \n",
            "3     pricey but good  \n"
          ]
        }
      ]
    }
  ]
}